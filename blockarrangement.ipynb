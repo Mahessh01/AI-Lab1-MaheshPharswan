{
  "nbformat": 4,
  "nbformat_minor": 0,
  "metadata": {
    "colab": {
      "provenance": [],
      "authorship_tag": "ABX9TyMCF/iIRcIX/ABOX0UYAIHg",
      "include_colab_link": true
    },
    "kernelspec": {
      "name": "python3",
      "display_name": "Python 3"
    },
    "language_info": {
      "name": "python"
    }
  },
  "cells": [
    {
      "cell_type": "markdown",
      "metadata": {
        "id": "view-in-github",
        "colab_type": "text"
      },
      "source": [
        "<a href=\"https://colab.research.google.com/github/Mahessh01/AI-Lab1-MaheshPharswan/blob/main/blockarrangement.ipynb\" target=\"_parent\"><img src=\"https://colab.research.google.com/assets/colab-badge.svg\" alt=\"Open In Colab\"/></a>"
      ]
    },
    {
      "cell_type": "code",
      "execution_count": null,
      "metadata": {
        "id": "FgCavVpdCQEo"
      },
      "outputs": [],
      "source": [
        "# The goal state for the block arrangement\n",
        "GOAL_STATE = ['A', 'B', 'C', 'D']\n",
        "\n",
        "def calculate_heuristic(state):\n",
        "\n",
        "    misplaced_blocks = 0\n",
        "    for i in range(len(state)):\n",
        "        if state[i] != GOAL_STATE[i]:\n",
        "            misplaced_blocks += 1\n",
        "    return misplaced_blocks\n",
        "\n",
        "def get_neighbors(state):\n",
        "    neighbors = []\n",
        "    for i in range(len(state)):\n",
        "        for j in range(i + 1, len(state)):\n",
        "            # Create a copy of the state to modify\n",
        "            neighbor = state[:]\n",
        "            # Swap blocks at positions i and j\n",
        "            neighbor[i], neighbor[j] = neighbor[j], neighbor[i]\n",
        "            neighbors.append(neighbor)\n",
        "    return neighbors\n",
        "\n",
        "def hill_climbing(initial_state):\n",
        "    current_state = initial_state\n",
        "    path = [current_state]\n",
        "\n",
        "    while True:\n",
        "        current_heuristic = calculate_heuristic(current_state)\n",
        "        print(f\"Current State: {current_state}, Heuristic (Misplaced): {current_heuristic}\")\n",
        "\n",
        "        # Goal reached if heuristic is 0\n",
        "        if current_heuristic == 0:\n",
        "            print(\"\\n Goal State Reached!\")\n",
        "            return path\n",
        "\n",
        "        neighbors = get_neighbors(current_state)\n",
        "        best_neighbor = None\n",
        "        # Start with the current heuristic as the best one so far\n",
        "        best_heuristic = current_heuristic\n",
        "\n",
        "        # Find the best neighbor\n",
        "        for neighbor in neighbors:\n",
        "            neighbor_heuristic = calculate_heuristic(neighbor)\n",
        "            if neighbor_heuristic < best_heuristic:\n",
        "                best_heuristic = neighbor_heuristic\n",
        "                best_neighbor = neighbor\n",
        "\n",
        "        # If no neighbor is better, we are stuck\n",
        "        if best_neighbor is None:\n",
        "            print(\"\\n Stuck at a local optimum. No better neighbors found.\")\n",
        "            return path\n",
        "\n",
        "        # Move to the best neighbor found\n",
        "        print(f\"-> Moving to a better state.\\n\")\n",
        "        current_state = best_neighbor\n",
        "        path.append(current_state)\n",
        "\n",
        "# --- Main Execution ---\n",
        "if __name__ == \"__main__\":\n",
        "    # Input: Initial stack of blocks\n",
        "    initial_stack = ['C', 'A', 'D', 'B']\n",
        "\n",
        "    solution_path = hill_climbing(initial_stack)\n",
        "\n",
        "    print(\"-\" * 35)\n",
        "    print(\"## Final Path Taken\")\n",
        "    for i, state in enumerate(solution_path):\n",
        "        print(f\"Step {i}: {state}\")"
      ]
    }
  ]
}